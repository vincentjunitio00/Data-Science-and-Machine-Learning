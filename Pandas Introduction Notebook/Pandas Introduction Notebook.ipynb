{
  "nbformat": 4,
  "nbformat_minor": 0,
  "metadata": {
    "kernelspec": {
      "display_name": "Python 3",
      "language": "python",
      "name": "python3"
    },
    "language_info": {
      "codemirror_mode": {
        "name": "ipython",
        "version": 3
      },
      "file_extension": ".py",
      "mimetype": "text/x-python",
      "name": "python",
      "nbconvert_exporter": "python",
      "pygments_lexer": "ipython3",
      "version": "3.7.4"
    },
    "colab": {
      "name": "Pandas Introduction Notebook.ipynb",
      "provenance": [],
      "collapsed_sections": [
        "Pn6UimF1huYx"
      ],
      "toc_visible": true
    }
  },
  "cells": [
    {
      "cell_type": "markdown",
      "metadata": {
        "id": "0ZiFp3SphuW2",
        "colab_type": "text"
      },
      "source": [
        "# Pandas Introduction Notebook #\n",
        "#### by: Vincent Junitio Ungu ####\n",
        "---\n",
        "\n",
        "Hey guys! Today, I will be sharing the most recently used functions in **pandas**. At the end of this notebook, you should have these following skills:\n",
        "* Create your own dataframe\n",
        "* Import a file into a dataframe\n",
        "* Insert a column to the dataframe\n",
        "* Insert a row to the dataframe\n",
        "* Drop a column or row\n",
        "* Export your dataframe into *.csv*, *.txt*, *.json* file\n",
        "\n",
        "I am using **Google Colab** since we do not need any installation, but please have your device connected to the internet. :)\n",
        "\n",
        "If you are new to Data Science and its related field, learning **pandas** is one of the most essential skills needed and this notebook should be your first baby step to dive in these world."
      ]
    },
    {
      "cell_type": "markdown",
      "metadata": {
        "id": "wD_08EpRyb4T",
        "colab_type": "text"
      },
      "source": [
        "\n",
        "---"
      ]
    },
    {
      "cell_type": "markdown",
      "metadata": {
        "id": "PDwzizCjydl0",
        "colab_type": "text"
      },
      "source": [
        "**Note: Please imagine that I am sitting beside you and explaining this notebook to you personally.**\n",
        "\n",
        "**Please Save a copy in Drive so you can edit in the notebook as well.**\n",
        "**File** -> **Save a copy in Drive**\n",
        "\n",
        "**You can simply click Runtime** -> **Run All, but since there are some \"exercises\" it will be better for you to run every cell step by step.** :D"
      ]
    },
    {
      "cell_type": "markdown",
      "metadata": {
        "id": "QLzBKYeBhuW3",
        "colab_type": "text"
      },
      "source": [
        "---"
      ]
    },
    {
      "cell_type": "markdown",
      "metadata": {
        "id": "Zdd7FNBXhuW3",
        "colab_type": "text"
      },
      "source": [
        "Since we are using **Google Colab**, we do not need to install **pandas** library. However, we have to import it.\\\n",
        "Note: if you are using jupyter notebook or other python IDEs, please check on how to install **pandas**."
      ]
    },
    {
      "cell_type": "code",
      "metadata": {
        "id": "rwwnB5nlhuW4",
        "colab_type": "code",
        "colab": {}
      },
      "source": [
        "import pandas as pd"
      ],
      "execution_count": null,
      "outputs": []
    },
    {
      "cell_type": "markdown",
      "metadata": {
        "id": "aLIp9tkihuW7",
        "colab_type": "text"
      },
      "source": [
        "The library name is **pandas**. To import it, we add an import before it. Next, you will see **as pd**. We call it as \"aliasing\" or nicknaming it as **pd**. The reason why we use \"aliasing\" is to make it easier for us to call/ use it later on."
      ]
    },
    {
      "cell_type": "markdown",
      "metadata": {
        "id": "jew8i-gJhuW7",
        "colab_type": "text"
      },
      "source": [
        "## Create a Dataframe ##"
      ]
    },
    {
      "cell_type": "markdown",
      "metadata": {
        "id": "rhGCugVjhuW7",
        "colab_type": "text"
      },
      "source": [
        "After importing the library, we will make our first dataframe. Dataframe is a 2-dimensional data structure consists of rows and columns - to not be confused, you can assume it as a table (in data term)."
      ]
    },
    {
      "cell_type": "code",
      "metadata": {
        "id": "eC_bst4-huW8",
        "colab_type": "code",
        "colab": {}
      },
      "source": [
        "# keys = \"Menu\" and \"Price\", values = [ 'Hamburger', 'Hotdog', 'Pizza', 'Cola'] and [ 10, 5, 3, 2]\n",
        "\n",
        "data = {\n",
        "    \"Menu\" : ['Hamburger', 'Hotdog', 'Pizza', 'Cola'],\n",
        "    \"Price\" : [ 10, 5, 3, 2]\n",
        "}"
      ],
      "execution_count": null,
      "outputs": []
    },
    {
      "cell_type": "markdown",
      "metadata": {
        "id": "P3eRDwpuhuW-",
        "colab_type": "text"
      },
      "source": [
        "I created a variable named **data**. This **data** is a dictionary data structure (remember that dictionary is distinguished by the curly bracket \"{ ... }\". \n",
        "\n",
        "\\- Dictionary -\\\n",
        "Notation: { key: value}\\\n",
        "Example: sounds = { \"Lion\": \"Roar\", \"Dog\": \"Bark\"}\\\n",
        "Explanation: variable **sounds** is a dictionary of animal sounds (Lions roar, dogs bark).\n",
        "\n",
        "\\- List -\\\n",
        "Notation: [ ]\\\n",
        "Example: values = [ 1, 2, 3, 4, 5]\\\n",
        "Explanation: variable **values** is a list of number ranging from 1 to 5.\n",
        "\n",
        "Note: For numbers, we can directly type it without a quotation mark \" \". For words (in python known as \"string\"), we should add a quotation mark (ex: \"Hello\")."
      ]
    },
    {
      "cell_type": "markdown",
      "metadata": {
        "id": "mLrj1s3khuW-",
        "colab_type": "text"
      },
      "source": [
        "To create a dataframe, we use the below syntax. We save it as **df**."
      ]
    },
    {
      "cell_type": "code",
      "metadata": {
        "id": "vW5jraishuW_",
        "colab_type": "code",
        "colab": {}
      },
      "source": [
        "df = pd.DataFrame(data)"
      ],
      "execution_count": null,
      "outputs": []
    },
    {
      "cell_type": "markdown",
      "metadata": {
        "id": "X_5nbO6chuXB",
        "colab_type": "text"
      },
      "source": [
        "Now, let's call out our dataframe."
      ]
    },
    {
      "cell_type": "code",
      "metadata": {
        "id": "cVs6sK18huXB",
        "colab_type": "code",
        "colab": {
          "base_uri": "https://localhost:8080/",
          "height": 171
        },
        "outputId": "a8644e36-e375-4fea-bc61-30689f0e59ab"
      },
      "source": [
        "df"
      ],
      "execution_count": null,
      "outputs": [
        {
          "output_type": "execute_result",
          "data": {
            "text/html": [
              "<div>\n",
              "<style scoped>\n",
              "    .dataframe tbody tr th:only-of-type {\n",
              "        vertical-align: middle;\n",
              "    }\n",
              "\n",
              "    .dataframe tbody tr th {\n",
              "        vertical-align: top;\n",
              "    }\n",
              "\n",
              "    .dataframe thead th {\n",
              "        text-align: right;\n",
              "    }\n",
              "</style>\n",
              "<table border=\"1\" class=\"dataframe\">\n",
              "  <thead>\n",
              "    <tr style=\"text-align: right;\">\n",
              "      <th></th>\n",
              "      <th>Menu</th>\n",
              "      <th>Price</th>\n",
              "    </tr>\n",
              "  </thead>\n",
              "  <tbody>\n",
              "    <tr>\n",
              "      <th>0</th>\n",
              "      <td>Hamburger</td>\n",
              "      <td>10</td>\n",
              "    </tr>\n",
              "    <tr>\n",
              "      <th>1</th>\n",
              "      <td>Hotdog</td>\n",
              "      <td>5</td>\n",
              "    </tr>\n",
              "    <tr>\n",
              "      <th>2</th>\n",
              "      <td>Pizza</td>\n",
              "      <td>3</td>\n",
              "    </tr>\n",
              "    <tr>\n",
              "      <th>3</th>\n",
              "      <td>Cola</td>\n",
              "      <td>2</td>\n",
              "    </tr>\n",
              "  </tbody>\n",
              "</table>\n",
              "</div>"
            ],
            "text/plain": [
              "        Menu  Price\n",
              "0  Hamburger     10\n",
              "1     Hotdog      5\n",
              "2      Pizza      3\n",
              "3       Cola      2"
            ]
          },
          "metadata": {
            "tags": []
          },
          "execution_count": 4
        }
      ]
    },
    {
      "cell_type": "markdown",
      "metadata": {
        "id": "vtR4YSc2huXE",
        "colab_type": "text"
      },
      "source": [
        "There are several ways to call out our dataframe.\\\n",
        "**(name of the dataframe)** : to call out first 5 rows and last 5 rows.\\\n",
        "**(name of the dataframe).head()** : to call out first 5 rows.\\\n",
        "**(name of the dataframe).head(2)** : to call out first 2 rows.\\\n",
        "**(name of the dataframe).tail()** : to call out last 5 rows.\\\n",
        "**(name of the dataframe).tail(2)** : to call out last 2 rows."
      ]
    },
    {
      "cell_type": "markdown",
      "metadata": {
        "id": "kihHlTVehuXF",
        "colab_type": "text"
      },
      "source": [
        "---\n",
        "## Your Turn! ##\n",
        "Compare it with **df**.\n",
        "* Try to use **.head(2)**. Can you spot the difference?\n",
        "* Try to use **print(df)**. Can you spot the difference?\n",
        "* Try to use **.tail(1)**. Can you spot the difference?\n",
        "---"
      ]
    },
    {
      "cell_type": "code",
      "metadata": {
        "id": "aeutjRMHhuXG",
        "colab_type": "code",
        "colab": {}
      },
      "source": [
        "#use .head(2)\n"
      ],
      "execution_count": null,
      "outputs": []
    },
    {
      "cell_type": "code",
      "metadata": {
        "id": "11lWyTjuhuXI",
        "colab_type": "code",
        "colab": {}
      },
      "source": [
        "#use print(df)\n"
      ],
      "execution_count": null,
      "outputs": []
    },
    {
      "cell_type": "code",
      "metadata": {
        "id": "ki5cbho_huXL",
        "colab_type": "code",
        "colab": {}
      },
      "source": [
        "#use .tail(1)\n"
      ],
      "execution_count": null,
      "outputs": []
    },
    {
      "cell_type": "markdown",
      "metadata": {
        "id": "WVqQJ_FAhuXN",
        "colab_type": "text"
      },
      "source": [
        "## Import a file ##"
      ]
    },
    {
      "cell_type": "markdown",
      "metadata": {
        "id": "S2QenlOZhuXN",
        "colab_type": "text"
      },
      "source": [
        "In real world, there are tons of datasets available. Should we recreate all the data manually :\")?\n",
        "\n",
        "Chill friends, **pandas** supports file import  -  **.read_csv()**.\\\n",
        "Suppose we have a file named \"Menu.csv\". (csv stands for comma-separated values)."
      ]
    },
    {
      "cell_type": "code",
      "metadata": {
        "id": "DV1BNBGMhuXN",
        "colab_type": "code",
        "colab": {}
      },
      "source": [
        "# Please run the code below - this explanation will be provided by the end of this notebook.\n",
        "df.to_csv(\"Menu.csv\", index = False)"
      ],
      "execution_count": null,
      "outputs": []
    },
    {
      "cell_type": "markdown",
      "metadata": {
        "id": "xfVKHwmxhuXP",
        "colab_type": "text"
      },
      "source": [
        "Let's import the file."
      ]
    },
    {
      "cell_type": "code",
      "metadata": {
        "id": "hPJyQ2y_huXQ",
        "colab_type": "code",
        "colab": {}
      },
      "source": [
        "df = pd.read_csv(\"Menu.csv\")"
      ],
      "execution_count": null,
      "outputs": []
    },
    {
      "cell_type": "markdown",
      "metadata": {
        "id": "SffsnmOBhuXS",
        "colab_type": "text"
      },
      "source": [
        "Please remember since we have aliased **pandas** as **pd** so we have to use **pd.read_csv** instead of **pandas.read_csv**."
      ]
    },
    {
      "cell_type": "code",
      "metadata": {
        "id": "ohhxXJO1huXS",
        "colab_type": "code",
        "colab": {
          "base_uri": "https://localhost:8080/",
          "height": 171
        },
        "outputId": "011e74c0-99e0-4dd6-e614-674d16036d7e"
      },
      "source": [
        "df"
      ],
      "execution_count": null,
      "outputs": [
        {
          "output_type": "execute_result",
          "data": {
            "text/html": [
              "<div>\n",
              "<style scoped>\n",
              "    .dataframe tbody tr th:only-of-type {\n",
              "        vertical-align: middle;\n",
              "    }\n",
              "\n",
              "    .dataframe tbody tr th {\n",
              "        vertical-align: top;\n",
              "    }\n",
              "\n",
              "    .dataframe thead th {\n",
              "        text-align: right;\n",
              "    }\n",
              "</style>\n",
              "<table border=\"1\" class=\"dataframe\">\n",
              "  <thead>\n",
              "    <tr style=\"text-align: right;\">\n",
              "      <th></th>\n",
              "      <th>Menu</th>\n",
              "      <th>Price</th>\n",
              "    </tr>\n",
              "  </thead>\n",
              "  <tbody>\n",
              "    <tr>\n",
              "      <th>0</th>\n",
              "      <td>Hamburger</td>\n",
              "      <td>10</td>\n",
              "    </tr>\n",
              "    <tr>\n",
              "      <th>1</th>\n",
              "      <td>Hotdog</td>\n",
              "      <td>5</td>\n",
              "    </tr>\n",
              "    <tr>\n",
              "      <th>2</th>\n",
              "      <td>Pizza</td>\n",
              "      <td>3</td>\n",
              "    </tr>\n",
              "    <tr>\n",
              "      <th>3</th>\n",
              "      <td>Cola</td>\n",
              "      <td>2</td>\n",
              "    </tr>\n",
              "  </tbody>\n",
              "</table>\n",
              "</div>"
            ],
            "text/plain": [
              "        Menu  Price\n",
              "0  Hamburger     10\n",
              "1     Hotdog      5\n",
              "2      Pizza      3\n",
              "3       Cola      2"
            ]
          },
          "metadata": {
            "tags": []
          },
          "execution_count": 10
        }
      ]
    },
    {
      "cell_type": "markdown",
      "metadata": {
        "id": "Kl5Z55jKhuXU",
        "colab_type": "text"
      },
      "source": [
        "Yay! Now, we have succesfully import a file and read it into our dataframe. "
      ]
    },
    {
      "cell_type": "markdown",
      "metadata": {
        "id": "A-3MmmAUhuXV",
        "colab_type": "text"
      },
      "source": [
        "We are going deeper now. Let's examine what are the columns' data type in our dataframe. **.info()** gives you the information of the columns in our dataframe.\\\n",
        "After that, if we want to see the overall description of our dataframe, we can use **.describe()**."
      ]
    },
    {
      "cell_type": "code",
      "metadata": {
        "id": "4rrZG81EhuXV",
        "colab_type": "code",
        "colab": {
          "base_uri": "https://localhost:8080/",
          "height": 173
        },
        "outputId": "2e3954f1-8ce6-415d-db21-f4d4c391c2e1"
      },
      "source": [
        "df.info()"
      ],
      "execution_count": null,
      "outputs": [
        {
          "output_type": "stream",
          "text": [
            "<class 'pandas.core.frame.DataFrame'>\n",
            "RangeIndex: 4 entries, 0 to 3\n",
            "Data columns (total 2 columns):\n",
            " #   Column  Non-Null Count  Dtype \n",
            "---  ------  --------------  ----- \n",
            " 0   Menu    4 non-null      object\n",
            " 1   Price   4 non-null      int64 \n",
            "dtypes: int64(1), object(1)\n",
            "memory usage: 192.0+ bytes\n"
          ],
          "name": "stdout"
        }
      ]
    },
    {
      "cell_type": "code",
      "metadata": {
        "id": "y6KoFhxLhuXX",
        "colab_type": "code",
        "colab": {
          "base_uri": "https://localhost:8080/",
          "height": 294
        },
        "outputId": "5ebfe95f-b2a1-43be-90ef-bd3861f5c1d0"
      },
      "source": [
        "df.describe()"
      ],
      "execution_count": null,
      "outputs": [
        {
          "output_type": "execute_result",
          "data": {
            "text/html": [
              "<div>\n",
              "<style scoped>\n",
              "    .dataframe tbody tr th:only-of-type {\n",
              "        vertical-align: middle;\n",
              "    }\n",
              "\n",
              "    .dataframe tbody tr th {\n",
              "        vertical-align: top;\n",
              "    }\n",
              "\n",
              "    .dataframe thead th {\n",
              "        text-align: right;\n",
              "    }\n",
              "</style>\n",
              "<table border=\"1\" class=\"dataframe\">\n",
              "  <thead>\n",
              "    <tr style=\"text-align: right;\">\n",
              "      <th></th>\n",
              "      <th>Price</th>\n",
              "    </tr>\n",
              "  </thead>\n",
              "  <tbody>\n",
              "    <tr>\n",
              "      <th>count</th>\n",
              "      <td>4.000000</td>\n",
              "    </tr>\n",
              "    <tr>\n",
              "      <th>mean</th>\n",
              "      <td>5.000000</td>\n",
              "    </tr>\n",
              "    <tr>\n",
              "      <th>std</th>\n",
              "      <td>3.559026</td>\n",
              "    </tr>\n",
              "    <tr>\n",
              "      <th>min</th>\n",
              "      <td>2.000000</td>\n",
              "    </tr>\n",
              "    <tr>\n",
              "      <th>25%</th>\n",
              "      <td>2.750000</td>\n",
              "    </tr>\n",
              "    <tr>\n",
              "      <th>50%</th>\n",
              "      <td>4.000000</td>\n",
              "    </tr>\n",
              "    <tr>\n",
              "      <th>75%</th>\n",
              "      <td>6.250000</td>\n",
              "    </tr>\n",
              "    <tr>\n",
              "      <th>max</th>\n",
              "      <td>10.000000</td>\n",
              "    </tr>\n",
              "  </tbody>\n",
              "</table>\n",
              "</div>"
            ],
            "text/plain": [
              "           Price\n",
              "count   4.000000\n",
              "mean    5.000000\n",
              "std     3.559026\n",
              "min     2.000000\n",
              "25%     2.750000\n",
              "50%     4.000000\n",
              "75%     6.250000\n",
              "max    10.000000"
            ]
          },
          "metadata": {
            "tags": []
          },
          "execution_count": 12
        }
      ]
    },
    {
      "cell_type": "markdown",
      "metadata": {
        "id": "1V5FKgmKhuXa",
        "colab_type": "text"
      },
      "source": [
        "* count = number of rows\n",
        "* mean = the average of \"Price\"\n",
        "* std = the standard deviation\n",
        "* min = the minimum value\n",
        "* 25%, 50%, 75% = 25th, 50th, 75th percentiles respectively\n",
        "* max = the maximum value"
      ]
    },
    {
      "cell_type": "markdown",
      "metadata": {
        "id": "Dw13dhyPhuXa",
        "colab_type": "text"
      },
      "source": [
        "## Insert a Column ##"
      ]
    },
    {
      "cell_type": "markdown",
      "metadata": {
        "id": "wItUXOQihuXc",
        "colab_type": "text"
      },
      "source": [
        "Let's say we want to add a new column named \"Discount\". The discount is 20% of the price. We will do it manually."
      ]
    },
    {
      "cell_type": "code",
      "metadata": {
        "id": "5753QN2HhuXc",
        "colab_type": "code",
        "colab": {}
      },
      "source": [
        "discount = [ 2, 1, 0.6, 0.4]"
      ],
      "execution_count": null,
      "outputs": []
    },
    {
      "cell_type": "markdown",
      "metadata": {
        "id": "hOT_2ojqhuXe",
        "colab_type": "text"
      },
      "source": [
        "To insert a new column at a specified index, we use **.insert()**"
      ]
    },
    {
      "cell_type": "code",
      "metadata": {
        "id": "gUnAfulwhuXe",
        "colab_type": "code",
        "colab": {}
      },
      "source": [
        "df.insert(1, \"Discount\", discount)"
      ],
      "execution_count": null,
      "outputs": []
    },
    {
      "cell_type": "markdown",
      "metadata": {
        "id": "z9PTwT_VhuXh",
        "colab_type": "text"
      },
      "source": [
        "Please have a look at the cell above. We are going to insert a new column named \"Discount\", in which the data is saved in **discount** at position *1*."
      ]
    },
    {
      "cell_type": "markdown",
      "metadata": {
        "id": "cRZbL77ThuXh",
        "colab_type": "text"
      },
      "source": [
        "By default, all the index numbers (rows and columns) start from 0. \"Menu\" is at index 0, so inserting \"Discount\" at index 1 will set this column right beside \"Menu\"."
      ]
    },
    {
      "cell_type": "code",
      "metadata": {
        "id": "BTwVBMXdhuXi",
        "colab_type": "code",
        "colab": {
          "base_uri": "https://localhost:8080/",
          "height": 171
        },
        "outputId": "cfec2835-f922-4263-ce69-cdce7885e9fe"
      },
      "source": [
        "df"
      ],
      "execution_count": null,
      "outputs": [
        {
          "output_type": "execute_result",
          "data": {
            "text/html": [
              "<div>\n",
              "<style scoped>\n",
              "    .dataframe tbody tr th:only-of-type {\n",
              "        vertical-align: middle;\n",
              "    }\n",
              "\n",
              "    .dataframe tbody tr th {\n",
              "        vertical-align: top;\n",
              "    }\n",
              "\n",
              "    .dataframe thead th {\n",
              "        text-align: right;\n",
              "    }\n",
              "</style>\n",
              "<table border=\"1\" class=\"dataframe\">\n",
              "  <thead>\n",
              "    <tr style=\"text-align: right;\">\n",
              "      <th></th>\n",
              "      <th>Menu</th>\n",
              "      <th>Discount</th>\n",
              "      <th>Price</th>\n",
              "    </tr>\n",
              "  </thead>\n",
              "  <tbody>\n",
              "    <tr>\n",
              "      <th>0</th>\n",
              "      <td>Hamburger</td>\n",
              "      <td>2.0</td>\n",
              "      <td>10</td>\n",
              "    </tr>\n",
              "    <tr>\n",
              "      <th>1</th>\n",
              "      <td>Hotdog</td>\n",
              "      <td>1.0</td>\n",
              "      <td>5</td>\n",
              "    </tr>\n",
              "    <tr>\n",
              "      <th>2</th>\n",
              "      <td>Pizza</td>\n",
              "      <td>0.6</td>\n",
              "      <td>3</td>\n",
              "    </tr>\n",
              "    <tr>\n",
              "      <th>3</th>\n",
              "      <td>Cola</td>\n",
              "      <td>0.4</td>\n",
              "      <td>2</td>\n",
              "    </tr>\n",
              "  </tbody>\n",
              "</table>\n",
              "</div>"
            ],
            "text/plain": [
              "        Menu  Discount  Price\n",
              "0  Hamburger       2.0     10\n",
              "1     Hotdog       1.0      5\n",
              "2      Pizza       0.6      3\n",
              "3       Cola       0.4      2"
            ]
          },
          "metadata": {
            "tags": []
          },
          "execution_count": 15
        }
      ]
    },
    {
      "cell_type": "markdown",
      "metadata": {
        "id": "w0OFba7MhuXj",
        "colab_type": "text"
      },
      "source": [
        "Our dataframe **df** has a new column now."
      ]
    },
    {
      "cell_type": "markdown",
      "metadata": {
        "id": "3AClb4emhuXk",
        "colab_type": "text"
      },
      "source": [
        "---\n",
        "## Your Turn! ##\n",
        "Please change the **df.insert(1, \"Discount, discount)** to:\n",
        "* **df.insert(2, \"Discount\", discount)**. Is there any error?\n",
        "* **df.insert(3, \"Discount\", discount)**. Is there any error?\n",
        "---"
      ]
    },
    {
      "cell_type": "code",
      "metadata": {
        "id": "3fxEd3IyhuXk",
        "colab_type": "code",
        "colab": {}
      },
      "source": [
        "# df.insert(2, \"Discount\", discount)\n"
      ],
      "execution_count": null,
      "outputs": []
    },
    {
      "cell_type": "code",
      "metadata": {
        "id": "HZ28Im7qhuXm",
        "colab_type": "code",
        "colab": {}
      },
      "source": [
        "df_new = pd.read_csv(\"Menu.csv\")\n",
        "\n",
        "# df_new.insert(3, \"Discount\", discount)\n"
      ],
      "execution_count": null,
      "outputs": []
    },
    {
      "cell_type": "markdown",
      "metadata": {
        "id": "P0QAw_LShuXn",
        "colab_type": "text"
      },
      "source": [
        "## Create a new column with Arithmetic Operation ##"
      ]
    },
    {
      "cell_type": "markdown",
      "metadata": {
        "id": "qaRTcZXWhuXo",
        "colab_type": "text"
      },
      "source": [
        "Say we want to add a column named *Discounted_Price*. It is a bit boring if we do it manually. Let's handle it with arithmetic operation - substraction in this case. If we want to get the discounted price of our menu, we can simply substract the price with the discount price."
      ]
    },
    {
      "cell_type": "code",
      "metadata": {
        "id": "OefV70W6huXo",
        "colab_type": "code",
        "colab": {}
      },
      "source": [
        "df['Discounted_Price'] = df['Price'] - df['Discount']"
      ],
      "execution_count": null,
      "outputs": []
    },
    {
      "cell_type": "code",
      "metadata": {
        "id": "EklYc2lYhuXp",
        "colab_type": "code",
        "colab": {
          "base_uri": "https://localhost:8080/",
          "height": 171
        },
        "outputId": "cf51618b-7dc9-4d2b-be4c-d727c63eb4f7"
      },
      "source": [
        "df"
      ],
      "execution_count": null,
      "outputs": [
        {
          "output_type": "execute_result",
          "data": {
            "text/html": [
              "<div>\n",
              "<style scoped>\n",
              "    .dataframe tbody tr th:only-of-type {\n",
              "        vertical-align: middle;\n",
              "    }\n",
              "\n",
              "    .dataframe tbody tr th {\n",
              "        vertical-align: top;\n",
              "    }\n",
              "\n",
              "    .dataframe thead th {\n",
              "        text-align: right;\n",
              "    }\n",
              "</style>\n",
              "<table border=\"1\" class=\"dataframe\">\n",
              "  <thead>\n",
              "    <tr style=\"text-align: right;\">\n",
              "      <th></th>\n",
              "      <th>Menu</th>\n",
              "      <th>Discount</th>\n",
              "      <th>Price</th>\n",
              "      <th>Discounted_Price</th>\n",
              "    </tr>\n",
              "  </thead>\n",
              "  <tbody>\n",
              "    <tr>\n",
              "      <th>0</th>\n",
              "      <td>Hamburger</td>\n",
              "      <td>2.0</td>\n",
              "      <td>10</td>\n",
              "      <td>8.0</td>\n",
              "    </tr>\n",
              "    <tr>\n",
              "      <th>1</th>\n",
              "      <td>Hotdog</td>\n",
              "      <td>1.0</td>\n",
              "      <td>5</td>\n",
              "      <td>4.0</td>\n",
              "    </tr>\n",
              "    <tr>\n",
              "      <th>2</th>\n",
              "      <td>Pizza</td>\n",
              "      <td>0.6</td>\n",
              "      <td>3</td>\n",
              "      <td>2.4</td>\n",
              "    </tr>\n",
              "    <tr>\n",
              "      <th>3</th>\n",
              "      <td>Cola</td>\n",
              "      <td>0.4</td>\n",
              "      <td>2</td>\n",
              "      <td>1.6</td>\n",
              "    </tr>\n",
              "  </tbody>\n",
              "</table>\n",
              "</div>"
            ],
            "text/plain": [
              "        Menu  Discount  Price  Discounted_Price\n",
              "0  Hamburger       2.0     10               8.0\n",
              "1     Hotdog       1.0      5               4.0\n",
              "2      Pizza       0.6      3               2.4\n",
              "3       Cola       0.4      2               1.6"
            ]
          },
          "metadata": {
            "tags": []
          },
          "execution_count": 19
        }
      ]
    },
    {
      "cell_type": "markdown",
      "metadata": {
        "id": "-m-KE96lhuXr",
        "colab_type": "text"
      },
      "source": [
        "Did you notice something?\n",
        "\n",
        "We have just added/ inserted a new column named \"Discounted_Price\" but we are not using **df.insert()**. In **pandas**, if we create a new column in a dataframe, it will directly place the new column to the last column (rightmost column)."
      ]
    },
    {
      "cell_type": "markdown",
      "metadata": {
        "id": "7P8T3BVkhuXs",
        "colab_type": "text"
      },
      "source": [
        "## Insert a new row into the dataframe ##"
      ]
    },
    {
      "cell_type": "markdown",
      "metadata": {
        "id": "tRQ3V6eXhuXs",
        "colab_type": "text"
      },
      "source": [
        "We have learned how to insert a column, now we will learn how to insert a new row.\\\n",
        "To add a new row, we use **.append()**."
      ]
    },
    {
      "cell_type": "code",
      "metadata": {
        "id": "kr_WSODuhuXt",
        "colab_type": "code",
        "colab": {}
      },
      "source": [
        "df = df.append({\"Menu\":\"Fries\", \"Price\": 4}, ignore_index = True)"
      ],
      "execution_count": null,
      "outputs": []
    },
    {
      "cell_type": "markdown",
      "metadata": {
        "id": "dd9_8pTXhuXv",
        "colab_type": "text"
      },
      "source": [
        "Can you guess what are we going to add?\n",
        "\n",
        "Yes! We are going to add \"Fries\" to our \"Menu\" column with its \"Price\" is 4 dollars."
      ]
    },
    {
      "cell_type": "code",
      "metadata": {
        "id": "vZAcnf4xhuXv",
        "colab_type": "code",
        "colab": {
          "base_uri": "https://localhost:8080/",
          "height": 202
        },
        "outputId": "8898d5cd-4930-4444-e3dc-db9177f0e179"
      },
      "source": [
        "df"
      ],
      "execution_count": null,
      "outputs": [
        {
          "output_type": "execute_result",
          "data": {
            "text/html": [
              "<div>\n",
              "<style scoped>\n",
              "    .dataframe tbody tr th:only-of-type {\n",
              "        vertical-align: middle;\n",
              "    }\n",
              "\n",
              "    .dataframe tbody tr th {\n",
              "        vertical-align: top;\n",
              "    }\n",
              "\n",
              "    .dataframe thead th {\n",
              "        text-align: right;\n",
              "    }\n",
              "</style>\n",
              "<table border=\"1\" class=\"dataframe\">\n",
              "  <thead>\n",
              "    <tr style=\"text-align: right;\">\n",
              "      <th></th>\n",
              "      <th>Menu</th>\n",
              "      <th>Discount</th>\n",
              "      <th>Price</th>\n",
              "      <th>Discounted_Price</th>\n",
              "    </tr>\n",
              "  </thead>\n",
              "  <tbody>\n",
              "    <tr>\n",
              "      <th>0</th>\n",
              "      <td>Hamburger</td>\n",
              "      <td>2.0</td>\n",
              "      <td>10</td>\n",
              "      <td>8.0</td>\n",
              "    </tr>\n",
              "    <tr>\n",
              "      <th>1</th>\n",
              "      <td>Hotdog</td>\n",
              "      <td>1.0</td>\n",
              "      <td>5</td>\n",
              "      <td>4.0</td>\n",
              "    </tr>\n",
              "    <tr>\n",
              "      <th>2</th>\n",
              "      <td>Pizza</td>\n",
              "      <td>0.6</td>\n",
              "      <td>3</td>\n",
              "      <td>2.4</td>\n",
              "    </tr>\n",
              "    <tr>\n",
              "      <th>3</th>\n",
              "      <td>Cola</td>\n",
              "      <td>0.4</td>\n",
              "      <td>2</td>\n",
              "      <td>1.6</td>\n",
              "    </tr>\n",
              "    <tr>\n",
              "      <th>4</th>\n",
              "      <td>Fries</td>\n",
              "      <td>NaN</td>\n",
              "      <td>4</td>\n",
              "      <td>NaN</td>\n",
              "    </tr>\n",
              "  </tbody>\n",
              "</table>\n",
              "</div>"
            ],
            "text/plain": [
              "        Menu  Discount  Price  Discounted_Price\n",
              "0  Hamburger       2.0     10               8.0\n",
              "1     Hotdog       1.0      5               4.0\n",
              "2      Pizza       0.6      3               2.4\n",
              "3       Cola       0.4      2               1.6\n",
              "4      Fries       NaN      4               NaN"
            ]
          },
          "metadata": {
            "tags": []
          },
          "execution_count": 21
        }
      ]
    },
    {
      "cell_type": "markdown",
      "metadata": {
        "id": "tN3PTf1phuXx",
        "colab_type": "text"
      },
      "source": [
        "Wait a minute! There is something strange in our **df**. What is \"NaN\"? \n",
        "\n",
        "NaN stands for Not a Number. Please review one cell before. We currently have 4 columns (Menu, Discount, Price, and Discounted_Price) but we only state the value of \"Menu\" and \"Price\". Since the \"Price\" and \"Discounted_Price\" are not stated, then these values will be \"NaN\"."
      ]
    },
    {
      "cell_type": "markdown",
      "metadata": {
        "id": "r8E1cIFXhuXx",
        "colab_type": "text"
      },
      "source": [
        "As I have mentioned before, the discount is 20%. Let's count the discount value once again using arithmetic operation."
      ]
    },
    {
      "cell_type": "markdown",
      "metadata": {
        "id": "E2ZEImpphuXy",
        "colab_type": "text"
      },
      "source": [
        "Previously, we have created \"Discount\" column. Please check what happened if we declare the same name of the column again."
      ]
    },
    {
      "cell_type": "code",
      "metadata": {
        "id": "lYALfikFhuXy",
        "colab_type": "code",
        "colab": {}
      },
      "source": [
        "df['Discount'] = 0.2 * df['Price']"
      ],
      "execution_count": null,
      "outputs": []
    },
    {
      "cell_type": "code",
      "metadata": {
        "id": "-y3Kxb7lhuX0",
        "colab_type": "code",
        "colab": {
          "base_uri": "https://localhost:8080/",
          "height": 202
        },
        "outputId": "1628446e-cf32-42a1-90bf-06bb3eaeaec1"
      },
      "source": [
        "df"
      ],
      "execution_count": null,
      "outputs": [
        {
          "output_type": "execute_result",
          "data": {
            "text/html": [
              "<div>\n",
              "<style scoped>\n",
              "    .dataframe tbody tr th:only-of-type {\n",
              "        vertical-align: middle;\n",
              "    }\n",
              "\n",
              "    .dataframe tbody tr th {\n",
              "        vertical-align: top;\n",
              "    }\n",
              "\n",
              "    .dataframe thead th {\n",
              "        text-align: right;\n",
              "    }\n",
              "</style>\n",
              "<table border=\"1\" class=\"dataframe\">\n",
              "  <thead>\n",
              "    <tr style=\"text-align: right;\">\n",
              "      <th></th>\n",
              "      <th>Menu</th>\n",
              "      <th>Discount</th>\n",
              "      <th>Price</th>\n",
              "      <th>Discounted_Price</th>\n",
              "    </tr>\n",
              "  </thead>\n",
              "  <tbody>\n",
              "    <tr>\n",
              "      <th>0</th>\n",
              "      <td>Hamburger</td>\n",
              "      <td>2.0</td>\n",
              "      <td>10</td>\n",
              "      <td>8.0</td>\n",
              "    </tr>\n",
              "    <tr>\n",
              "      <th>1</th>\n",
              "      <td>Hotdog</td>\n",
              "      <td>1.0</td>\n",
              "      <td>5</td>\n",
              "      <td>4.0</td>\n",
              "    </tr>\n",
              "    <tr>\n",
              "      <th>2</th>\n",
              "      <td>Pizza</td>\n",
              "      <td>0.6</td>\n",
              "      <td>3</td>\n",
              "      <td>2.4</td>\n",
              "    </tr>\n",
              "    <tr>\n",
              "      <th>3</th>\n",
              "      <td>Cola</td>\n",
              "      <td>0.4</td>\n",
              "      <td>2</td>\n",
              "      <td>1.6</td>\n",
              "    </tr>\n",
              "    <tr>\n",
              "      <th>4</th>\n",
              "      <td>Fries</td>\n",
              "      <td>0.8</td>\n",
              "      <td>4</td>\n",
              "      <td>NaN</td>\n",
              "    </tr>\n",
              "  </tbody>\n",
              "</table>\n",
              "</div>"
            ],
            "text/plain": [
              "        Menu  Discount  Price  Discounted_Price\n",
              "0  Hamburger       2.0     10               8.0\n",
              "1     Hotdog       1.0      5               4.0\n",
              "2      Pizza       0.6      3               2.4\n",
              "3       Cola       0.4      2               1.6\n",
              "4      Fries       0.8      4               NaN"
            ]
          },
          "metadata": {
            "tags": []
          },
          "execution_count": 23
        }
      ]
    },
    {
      "cell_type": "markdown",
      "metadata": {
        "id": "vrp1kpOxhuX1",
        "colab_type": "text"
      },
      "source": [
        "It will replace the (old) \"Discount\" column. Now we have our discount value for \"Fries\". To get the \"Discounted_Price\", we can simply rerun the cell which contains the substraction between \"Price\" and \"Discount\"."
      ]
    },
    {
      "cell_type": "code",
      "metadata": {
        "id": "RLQd9M--huX2",
        "colab_type": "code",
        "colab": {
          "base_uri": "https://localhost:8080/",
          "height": 202
        },
        "outputId": "1e3d31e4-6826-4301-cb95-6543bccee52d"
      },
      "source": [
        "df['Discounted_Price'] = df['Price'] - df['Discount']\n",
        "df"
      ],
      "execution_count": null,
      "outputs": [
        {
          "output_type": "execute_result",
          "data": {
            "text/html": [
              "<div>\n",
              "<style scoped>\n",
              "    .dataframe tbody tr th:only-of-type {\n",
              "        vertical-align: middle;\n",
              "    }\n",
              "\n",
              "    .dataframe tbody tr th {\n",
              "        vertical-align: top;\n",
              "    }\n",
              "\n",
              "    .dataframe thead th {\n",
              "        text-align: right;\n",
              "    }\n",
              "</style>\n",
              "<table border=\"1\" class=\"dataframe\">\n",
              "  <thead>\n",
              "    <tr style=\"text-align: right;\">\n",
              "      <th></th>\n",
              "      <th>Menu</th>\n",
              "      <th>Discount</th>\n",
              "      <th>Price</th>\n",
              "      <th>Discounted_Price</th>\n",
              "    </tr>\n",
              "  </thead>\n",
              "  <tbody>\n",
              "    <tr>\n",
              "      <th>0</th>\n",
              "      <td>Hamburger</td>\n",
              "      <td>2.0</td>\n",
              "      <td>10</td>\n",
              "      <td>8.0</td>\n",
              "    </tr>\n",
              "    <tr>\n",
              "      <th>1</th>\n",
              "      <td>Hotdog</td>\n",
              "      <td>1.0</td>\n",
              "      <td>5</td>\n",
              "      <td>4.0</td>\n",
              "    </tr>\n",
              "    <tr>\n",
              "      <th>2</th>\n",
              "      <td>Pizza</td>\n",
              "      <td>0.6</td>\n",
              "      <td>3</td>\n",
              "      <td>2.4</td>\n",
              "    </tr>\n",
              "    <tr>\n",
              "      <th>3</th>\n",
              "      <td>Cola</td>\n",
              "      <td>0.4</td>\n",
              "      <td>2</td>\n",
              "      <td>1.6</td>\n",
              "    </tr>\n",
              "    <tr>\n",
              "      <th>4</th>\n",
              "      <td>Fries</td>\n",
              "      <td>0.8</td>\n",
              "      <td>4</td>\n",
              "      <td>3.2</td>\n",
              "    </tr>\n",
              "  </tbody>\n",
              "</table>\n",
              "</div>"
            ],
            "text/plain": [
              "        Menu  Discount  Price  Discounted_Price\n",
              "0  Hamburger       2.0     10               8.0\n",
              "1     Hotdog       1.0      5               4.0\n",
              "2      Pizza       0.6      3               2.4\n",
              "3       Cola       0.4      2               1.6\n",
              "4      Fries       0.8      4               3.2"
            ]
          },
          "metadata": {
            "tags": []
          },
          "execution_count": 24
        }
      ]
    },
    {
      "cell_type": "markdown",
      "metadata": {
        "id": "Io29M463huX4",
        "colab_type": "text"
      },
      "source": [
        "Hooray! Our **df** is free from \"NaN\" now. That's simply how we add a row."
      ]
    },
    {
      "cell_type": "markdown",
      "metadata": {
        "id": "p0189bEehuX4",
        "colab_type": "text"
      },
      "source": [
        "## Find value in the dataframe ##"
      ]
    },
    {
      "cell_type": "markdown",
      "metadata": {
        "id": "d5WPXoflhuX5",
        "colab_type": "text"
      },
      "source": [
        "Suppose we are going to select certain columns with its values, \"Menu\" and \"Discounted_Price\". Here's how we run the code."
      ]
    },
    {
      "cell_type": "code",
      "metadata": {
        "id": "dVfgjqHfhuX5",
        "colab_type": "code",
        "colab": {
          "base_uri": "https://localhost:8080/",
          "height": 202
        },
        "outputId": "4621cb4c-43be-4d2c-ff46-47ff2ed43013"
      },
      "source": [
        "selected_columns = [\"Menu\", \"Discounted_Price\"]\n",
        "df[selected_columns]"
      ],
      "execution_count": null,
      "outputs": [
        {
          "output_type": "execute_result",
          "data": {
            "text/html": [
              "<div>\n",
              "<style scoped>\n",
              "    .dataframe tbody tr th:only-of-type {\n",
              "        vertical-align: middle;\n",
              "    }\n",
              "\n",
              "    .dataframe tbody tr th {\n",
              "        vertical-align: top;\n",
              "    }\n",
              "\n",
              "    .dataframe thead th {\n",
              "        text-align: right;\n",
              "    }\n",
              "</style>\n",
              "<table border=\"1\" class=\"dataframe\">\n",
              "  <thead>\n",
              "    <tr style=\"text-align: right;\">\n",
              "      <th></th>\n",
              "      <th>Menu</th>\n",
              "      <th>Discounted_Price</th>\n",
              "    </tr>\n",
              "  </thead>\n",
              "  <tbody>\n",
              "    <tr>\n",
              "      <th>0</th>\n",
              "      <td>Hamburger</td>\n",
              "      <td>8.0</td>\n",
              "    </tr>\n",
              "    <tr>\n",
              "      <th>1</th>\n",
              "      <td>Hotdog</td>\n",
              "      <td>4.0</td>\n",
              "    </tr>\n",
              "    <tr>\n",
              "      <th>2</th>\n",
              "      <td>Pizza</td>\n",
              "      <td>2.4</td>\n",
              "    </tr>\n",
              "    <tr>\n",
              "      <th>3</th>\n",
              "      <td>Cola</td>\n",
              "      <td>1.6</td>\n",
              "    </tr>\n",
              "    <tr>\n",
              "      <th>4</th>\n",
              "      <td>Fries</td>\n",
              "      <td>3.2</td>\n",
              "    </tr>\n",
              "  </tbody>\n",
              "</table>\n",
              "</div>"
            ],
            "text/plain": [
              "        Menu  Discounted_Price\n",
              "0  Hamburger               8.0\n",
              "1     Hotdog               4.0\n",
              "2      Pizza               2.4\n",
              "3       Cola               1.6\n",
              "4      Fries               3.2"
            ]
          },
          "metadata": {
            "tags": []
          },
          "execution_count": 25
        }
      ]
    },
    {
      "cell_type": "markdown",
      "metadata": {
        "id": "JpwedOUUhuX7",
        "colab_type": "text"
      },
      "source": [
        "That's how we deal with finding columns. For finding values in rows, we use **.loc()**."
      ]
    },
    {
      "cell_type": "markdown",
      "metadata": {
        "id": "JDntO6XMhuX7",
        "colab_type": "text"
      },
      "source": [
        "Suppose we are going to select the \"Menu\" which \"Price\" is less than 10 dollars. Here's how we run the code."
      ]
    },
    {
      "cell_type": "code",
      "metadata": {
        "id": "O1ATzW7-huX7",
        "colab_type": "code",
        "colab": {
          "base_uri": "https://localhost:8080/",
          "height": 104
        },
        "outputId": "eeee8d2c-2581-460f-b83b-e394475095a4"
      },
      "source": [
        "df.loc[df['Price']<10][\"Menu\"]"
      ],
      "execution_count": null,
      "outputs": [
        {
          "output_type": "execute_result",
          "data": {
            "text/plain": [
              "1    Hotdog\n",
              "2     Pizza\n",
              "3      Cola\n",
              "4     Fries\n",
              "Name: Menu, dtype: object"
            ]
          },
          "metadata": {
            "tags": []
          },
          "execution_count": 26
        }
      ]
    },
    {
      "cell_type": "markdown",
      "metadata": {
        "id": "N99Ok5FMhuX-",
        "colab_type": "text"
      },
      "source": [
        "Can we find the value of the row at a specific index? Yes! Suppose we are going to search the value at index 2. We use **iloc()** with i stands for integer-based indexing. Here's how we run the code."
      ]
    },
    {
      "cell_type": "code",
      "metadata": {
        "id": "1ZTj7Rm8huX-",
        "colab_type": "code",
        "colab": {
          "base_uri": "https://localhost:8080/",
          "height": 104
        },
        "outputId": "efd6282d-e14a-4673-8716-b248cab99812"
      },
      "source": [
        "df.iloc[2]"
      ],
      "execution_count": null,
      "outputs": [
        {
          "output_type": "execute_result",
          "data": {
            "text/plain": [
              "Menu                Pizza\n",
              "Discount              0.6\n",
              "Price                   3\n",
              "Discounted_Price      2.4\n",
              "Name: 2, dtype: object"
            ]
          },
          "metadata": {
            "tags": []
          },
          "execution_count": 27
        }
      ]
    },
    {
      "cell_type": "markdown",
      "metadata": {
        "id": "8kEPD0ZqhuYB",
        "colab_type": "text"
      },
      "source": [
        "---\n",
        "## Your Turn! ##\n",
        "* Find the \"Menu\" in which its \"Discounted_Price\" is greater than 2.\n",
        "* Try to run df.loc[ df['Price'] < 10]. Compare it with df.loc[df['Price'] < 10][\"Menu\"]. Can you spot the difference?\n",
        "* Find the dataframe which \"Menu\" is Hotdog. Please note that since Hotdog is a string data type, do not forget to put quotation mark between Hotdog. \n",
        "---"
      ]
    },
    {
      "cell_type": "code",
      "metadata": {
        "id": "UvKYkhEPhuYB",
        "colab_type": "code",
        "colab": {}
      },
      "source": [
        "# Find the \"Menu\" in which its \"Discounted_Price\" is greater than 2\n"
      ],
      "execution_count": null,
      "outputs": []
    },
    {
      "cell_type": "code",
      "metadata": {
        "id": "CmLqXheXhuYC",
        "colab_type": "code",
        "colab": {}
      },
      "source": [
        "# df.loc[df['Price'] < 10]\n"
      ],
      "execution_count": null,
      "outputs": []
    },
    {
      "cell_type": "code",
      "metadata": {
        "scrolled": true,
        "id": "nZtf9rO9huYE",
        "colab_type": "code",
        "colab": {}
      },
      "source": [
        "# Find the dataframe which \"Menu\" is Hotdog. Please note that since Hotdog is a string data type, do not forget to put quotation mark between Hotdog.\n"
      ],
      "execution_count": null,
      "outputs": []
    },
    {
      "cell_type": "markdown",
      "metadata": {
        "id": "Fjv3WaHwhuYI",
        "colab_type": "text"
      },
      "source": [
        "## Drop column or row ##"
      ]
    },
    {
      "cell_type": "markdown",
      "metadata": {
        "id": "pmuxY1zZhuYI",
        "colab_type": "text"
      },
      "source": [
        "In some cases, not all columns and rows are needed and being processed. We can simply drop them with **.drop()**."
      ]
    },
    {
      "cell_type": "markdown",
      "metadata": {
        "id": "9oK-NjdnhuYI",
        "colab_type": "text"
      },
      "source": [
        "We have counted the \"Discounted_Price\" and we do not need \"Discount\" column anymore. Let's drop this column."
      ]
    },
    {
      "cell_type": "code",
      "metadata": {
        "id": "08oo4ZbChuYJ",
        "colab_type": "code",
        "colab": {}
      },
      "source": [
        "df = df.drop(\"Discount\", axis = 1)"
      ],
      "execution_count": null,
      "outputs": []
    },
    {
      "cell_type": "code",
      "metadata": {
        "id": "sabHFG38huYK",
        "colab_type": "code",
        "colab": {
          "base_uri": "https://localhost:8080/",
          "height": 202
        },
        "outputId": "6f38f137-34f8-4910-a972-c82b2538ec89"
      },
      "source": [
        "df"
      ],
      "execution_count": null,
      "outputs": [
        {
          "output_type": "execute_result",
          "data": {
            "text/html": [
              "<div>\n",
              "<style scoped>\n",
              "    .dataframe tbody tr th:only-of-type {\n",
              "        vertical-align: middle;\n",
              "    }\n",
              "\n",
              "    .dataframe tbody tr th {\n",
              "        vertical-align: top;\n",
              "    }\n",
              "\n",
              "    .dataframe thead th {\n",
              "        text-align: right;\n",
              "    }\n",
              "</style>\n",
              "<table border=\"1\" class=\"dataframe\">\n",
              "  <thead>\n",
              "    <tr style=\"text-align: right;\">\n",
              "      <th></th>\n",
              "      <th>Menu</th>\n",
              "      <th>Price</th>\n",
              "      <th>Discounted_Price</th>\n",
              "    </tr>\n",
              "  </thead>\n",
              "  <tbody>\n",
              "    <tr>\n",
              "      <th>0</th>\n",
              "      <td>Hamburger</td>\n",
              "      <td>10</td>\n",
              "      <td>8.0</td>\n",
              "    </tr>\n",
              "    <tr>\n",
              "      <th>1</th>\n",
              "      <td>Hotdog</td>\n",
              "      <td>5</td>\n",
              "      <td>4.0</td>\n",
              "    </tr>\n",
              "    <tr>\n",
              "      <th>2</th>\n",
              "      <td>Pizza</td>\n",
              "      <td>3</td>\n",
              "      <td>2.4</td>\n",
              "    </tr>\n",
              "    <tr>\n",
              "      <th>3</th>\n",
              "      <td>Cola</td>\n",
              "      <td>2</td>\n",
              "      <td>1.6</td>\n",
              "    </tr>\n",
              "    <tr>\n",
              "      <th>4</th>\n",
              "      <td>Fries</td>\n",
              "      <td>4</td>\n",
              "      <td>3.2</td>\n",
              "    </tr>\n",
              "  </tbody>\n",
              "</table>\n",
              "</div>"
            ],
            "text/plain": [
              "        Menu  Price  Discounted_Price\n",
              "0  Hamburger     10               8.0\n",
              "1     Hotdog      5               4.0\n",
              "2      Pizza      3               2.4\n",
              "3       Cola      2               1.6\n",
              "4      Fries      4               3.2"
            ]
          },
          "metadata": {
            "tags": []
          },
          "execution_count": 32
        }
      ]
    },
    {
      "cell_type": "markdown",
      "metadata": {
        "id": "qPU52BdshuYN",
        "colab_type": "text"
      },
      "source": [
        "What is axis? Axis has 2 values (0 or 1). If we set axis = 1, we will drop the column (from top to bottom). However if we set axis = 0, we will drop the row (from left to right)."
      ]
    },
    {
      "cell_type": "code",
      "metadata": {
        "id": "OyzzDQ6phuYO",
        "colab_type": "code",
        "colab": {}
      },
      "source": [
        "df = df.drop(0, axis = 0)"
      ],
      "execution_count": null,
      "outputs": []
    },
    {
      "cell_type": "code",
      "metadata": {
        "id": "JJnyh_kEhuYQ",
        "colab_type": "code",
        "colab": {
          "base_uri": "https://localhost:8080/",
          "height": 171
        },
        "outputId": "47cb1dd8-b34b-404b-f074-bcdc391ce4fe"
      },
      "source": [
        "df"
      ],
      "execution_count": null,
      "outputs": [
        {
          "output_type": "execute_result",
          "data": {
            "text/html": [
              "<div>\n",
              "<style scoped>\n",
              "    .dataframe tbody tr th:only-of-type {\n",
              "        vertical-align: middle;\n",
              "    }\n",
              "\n",
              "    .dataframe tbody tr th {\n",
              "        vertical-align: top;\n",
              "    }\n",
              "\n",
              "    .dataframe thead th {\n",
              "        text-align: right;\n",
              "    }\n",
              "</style>\n",
              "<table border=\"1\" class=\"dataframe\">\n",
              "  <thead>\n",
              "    <tr style=\"text-align: right;\">\n",
              "      <th></th>\n",
              "      <th>Menu</th>\n",
              "      <th>Price</th>\n",
              "      <th>Discounted_Price</th>\n",
              "    </tr>\n",
              "  </thead>\n",
              "  <tbody>\n",
              "    <tr>\n",
              "      <th>1</th>\n",
              "      <td>Hotdog</td>\n",
              "      <td>5</td>\n",
              "      <td>4.0</td>\n",
              "    </tr>\n",
              "    <tr>\n",
              "      <th>2</th>\n",
              "      <td>Pizza</td>\n",
              "      <td>3</td>\n",
              "      <td>2.4</td>\n",
              "    </tr>\n",
              "    <tr>\n",
              "      <th>3</th>\n",
              "      <td>Cola</td>\n",
              "      <td>2</td>\n",
              "      <td>1.6</td>\n",
              "    </tr>\n",
              "    <tr>\n",
              "      <th>4</th>\n",
              "      <td>Fries</td>\n",
              "      <td>4</td>\n",
              "      <td>3.2</td>\n",
              "    </tr>\n",
              "  </tbody>\n",
              "</table>\n",
              "</div>"
            ],
            "text/plain": [
              "     Menu  Price  Discounted_Price\n",
              "1  Hotdog      5               4.0\n",
              "2   Pizza      3               2.4\n",
              "3    Cola      2               1.6\n",
              "4   Fries      4               3.2"
            ]
          },
          "metadata": {
            "tags": []
          },
          "execution_count": 34
        }
      ]
    },
    {
      "cell_type": "markdown",
      "metadata": {
        "id": "M7UMUy91huYS",
        "colab_type": "text"
      },
      "source": [
        "We drop our index 0 row! Now we have dataframe with index 1 to 4."
      ]
    },
    {
      "cell_type": "markdown",
      "metadata": {
        "id": "dTLG-RgwhuYT",
        "colab_type": "text"
      },
      "source": [
        "Talking about index, can we change the index?\n",
        "\n",
        "Of course! Suppose we are going to change the index to \"Menu_1\", \"Menu_2\", \"Menu_3\", and \"Menu_4\". Here's how we run the code."
      ]
    },
    {
      "cell_type": "code",
      "metadata": {
        "id": "eB0-OYpbhuYT",
        "colab_type": "code",
        "colab": {}
      },
      "source": [
        "index_name = [\"Menu_1\", \"Menu_2\", \"Menu_3\", \"Menu_4\"]\n",
        "df.index = index_name"
      ],
      "execution_count": null,
      "outputs": []
    },
    {
      "cell_type": "code",
      "metadata": {
        "id": "b7xvW0QuhuYV",
        "colab_type": "code",
        "colab": {
          "base_uri": "https://localhost:8080/",
          "height": 171
        },
        "outputId": "a82bad7a-2dad-4e6b-fd05-ff9a8c5ff115"
      },
      "source": [
        "df"
      ],
      "execution_count": null,
      "outputs": [
        {
          "output_type": "execute_result",
          "data": {
            "text/html": [
              "<div>\n",
              "<style scoped>\n",
              "    .dataframe tbody tr th:only-of-type {\n",
              "        vertical-align: middle;\n",
              "    }\n",
              "\n",
              "    .dataframe tbody tr th {\n",
              "        vertical-align: top;\n",
              "    }\n",
              "\n",
              "    .dataframe thead th {\n",
              "        text-align: right;\n",
              "    }\n",
              "</style>\n",
              "<table border=\"1\" class=\"dataframe\">\n",
              "  <thead>\n",
              "    <tr style=\"text-align: right;\">\n",
              "      <th></th>\n",
              "      <th>Menu</th>\n",
              "      <th>Price</th>\n",
              "      <th>Discounted_Price</th>\n",
              "    </tr>\n",
              "  </thead>\n",
              "  <tbody>\n",
              "    <tr>\n",
              "      <th>Menu_1</th>\n",
              "      <td>Hotdog</td>\n",
              "      <td>5</td>\n",
              "      <td>4.0</td>\n",
              "    </tr>\n",
              "    <tr>\n",
              "      <th>Menu_2</th>\n",
              "      <td>Pizza</td>\n",
              "      <td>3</td>\n",
              "      <td>2.4</td>\n",
              "    </tr>\n",
              "    <tr>\n",
              "      <th>Menu_3</th>\n",
              "      <td>Cola</td>\n",
              "      <td>2</td>\n",
              "      <td>1.6</td>\n",
              "    </tr>\n",
              "    <tr>\n",
              "      <th>Menu_4</th>\n",
              "      <td>Fries</td>\n",
              "      <td>4</td>\n",
              "      <td>3.2</td>\n",
              "    </tr>\n",
              "  </tbody>\n",
              "</table>\n",
              "</div>"
            ],
            "text/plain": [
              "          Menu  Price  Discounted_Price\n",
              "Menu_1  Hotdog      5               4.0\n",
              "Menu_2   Pizza      3               2.4\n",
              "Menu_3    Cola      2               1.6\n",
              "Menu_4   Fries      4               3.2"
            ]
          },
          "metadata": {
            "tags": []
          },
          "execution_count": 36
        }
      ]
    },
    {
      "cell_type": "markdown",
      "metadata": {
        "id": "ca__hyTnhuYX",
        "colab_type": "text"
      },
      "source": [
        "Suppose that we want to change the index back to number (starts from 0). We will use **.reset_index()**."
      ]
    },
    {
      "cell_type": "code",
      "metadata": {
        "id": "IvC8q-QQhuYX",
        "colab_type": "code",
        "colab": {}
      },
      "source": [
        "df = df.reset_index()"
      ],
      "execution_count": null,
      "outputs": []
    },
    {
      "cell_type": "code",
      "metadata": {
        "id": "7L5vs-bjhuYZ",
        "colab_type": "code",
        "colab": {
          "base_uri": "https://localhost:8080/",
          "height": 171
        },
        "outputId": "7d504f5c-5fe2-41cd-b00a-f7759de0d07b"
      },
      "source": [
        "df"
      ],
      "execution_count": null,
      "outputs": [
        {
          "output_type": "execute_result",
          "data": {
            "text/html": [
              "<div>\n",
              "<style scoped>\n",
              "    .dataframe tbody tr th:only-of-type {\n",
              "        vertical-align: middle;\n",
              "    }\n",
              "\n",
              "    .dataframe tbody tr th {\n",
              "        vertical-align: top;\n",
              "    }\n",
              "\n",
              "    .dataframe thead th {\n",
              "        text-align: right;\n",
              "    }\n",
              "</style>\n",
              "<table border=\"1\" class=\"dataframe\">\n",
              "  <thead>\n",
              "    <tr style=\"text-align: right;\">\n",
              "      <th></th>\n",
              "      <th>index</th>\n",
              "      <th>Menu</th>\n",
              "      <th>Price</th>\n",
              "      <th>Discounted_Price</th>\n",
              "    </tr>\n",
              "  </thead>\n",
              "  <tbody>\n",
              "    <tr>\n",
              "      <th>0</th>\n",
              "      <td>Menu_1</td>\n",
              "      <td>Hotdog</td>\n",
              "      <td>5</td>\n",
              "      <td>4.0</td>\n",
              "    </tr>\n",
              "    <tr>\n",
              "      <th>1</th>\n",
              "      <td>Menu_2</td>\n",
              "      <td>Pizza</td>\n",
              "      <td>3</td>\n",
              "      <td>2.4</td>\n",
              "    </tr>\n",
              "    <tr>\n",
              "      <th>2</th>\n",
              "      <td>Menu_3</td>\n",
              "      <td>Cola</td>\n",
              "      <td>2</td>\n",
              "      <td>1.6</td>\n",
              "    </tr>\n",
              "    <tr>\n",
              "      <th>3</th>\n",
              "      <td>Menu_4</td>\n",
              "      <td>Fries</td>\n",
              "      <td>4</td>\n",
              "      <td>3.2</td>\n",
              "    </tr>\n",
              "  </tbody>\n",
              "</table>\n",
              "</div>"
            ],
            "text/plain": [
              "    index    Menu  Price  Discounted_Price\n",
              "0  Menu_1  Hotdog      5               4.0\n",
              "1  Menu_2   Pizza      3               2.4\n",
              "2  Menu_3    Cola      2               1.6\n",
              "3  Menu_4   Fries      4               3.2"
            ]
          },
          "metadata": {
            "tags": []
          },
          "execution_count": 38
        }
      ]
    },
    {
      "cell_type": "markdown",
      "metadata": {
        "id": "HK1vr7zbhuYb",
        "colab_type": "text"
      },
      "source": [
        "Oh no! We have our index back started from 0 but we also have a new column named \"index\". There is two simple ways to handle this. \n",
        "\n",
        "**First way**, we can simply drop the \"index\" column.\\\n",
        "**Second way**, please review back few cells above. (I will provide it below as well)\\\n",
        "\"\\\n",
        "index_name = [ \"Menu_1\", \"Menu_2\", \"Menu_3\", \"Menu_4\"]\\\n",
        "df.index = index_name\\\n",
        "\"\\\n",
        "However we are not going to use **df.reset_index()**. Instead, we redeclare the **index_name** variable.\\\n",
        "index_name = [ 0, 1, 2, 3]\\\n",
        "df.index = index_name"
      ]
    },
    {
      "cell_type": "markdown",
      "metadata": {
        "id": "EeKPQT1rhuYc",
        "colab_type": "text"
      },
      "source": [
        "We will use the **first way** since it is easier to drop a column instead of redeclaring the variables (this will be hard if our dataframe consists of thousands of rows)."
      ]
    },
    {
      "cell_type": "code",
      "metadata": {
        "id": "FNVfy3tNhuYc",
        "colab_type": "code",
        "colab": {}
      },
      "source": [
        "df = df.drop([\"index\"], axis = 1)"
      ],
      "execution_count": null,
      "outputs": []
    },
    {
      "cell_type": "code",
      "metadata": {
        "id": "JqqOnoMYhuYd",
        "colab_type": "code",
        "colab": {
          "base_uri": "https://localhost:8080/",
          "height": 171
        },
        "outputId": "8263e34c-5aac-40ce-ffc3-b1bce1418c59"
      },
      "source": [
        "df"
      ],
      "execution_count": null,
      "outputs": [
        {
          "output_type": "execute_result",
          "data": {
            "text/html": [
              "<div>\n",
              "<style scoped>\n",
              "    .dataframe tbody tr th:only-of-type {\n",
              "        vertical-align: middle;\n",
              "    }\n",
              "\n",
              "    .dataframe tbody tr th {\n",
              "        vertical-align: top;\n",
              "    }\n",
              "\n",
              "    .dataframe thead th {\n",
              "        text-align: right;\n",
              "    }\n",
              "</style>\n",
              "<table border=\"1\" class=\"dataframe\">\n",
              "  <thead>\n",
              "    <tr style=\"text-align: right;\">\n",
              "      <th></th>\n",
              "      <th>Menu</th>\n",
              "      <th>Price</th>\n",
              "      <th>Discounted_Price</th>\n",
              "    </tr>\n",
              "  </thead>\n",
              "  <tbody>\n",
              "    <tr>\n",
              "      <th>0</th>\n",
              "      <td>Hotdog</td>\n",
              "      <td>5</td>\n",
              "      <td>4.0</td>\n",
              "    </tr>\n",
              "    <tr>\n",
              "      <th>1</th>\n",
              "      <td>Pizza</td>\n",
              "      <td>3</td>\n",
              "      <td>2.4</td>\n",
              "    </tr>\n",
              "    <tr>\n",
              "      <th>2</th>\n",
              "      <td>Cola</td>\n",
              "      <td>2</td>\n",
              "      <td>1.6</td>\n",
              "    </tr>\n",
              "    <tr>\n",
              "      <th>3</th>\n",
              "      <td>Fries</td>\n",
              "      <td>4</td>\n",
              "      <td>3.2</td>\n",
              "    </tr>\n",
              "  </tbody>\n",
              "</table>\n",
              "</div>"
            ],
            "text/plain": [
              "     Menu  Price  Discounted_Price\n",
              "0  Hotdog      5               4.0\n",
              "1   Pizza      3               2.4\n",
              "2    Cola      2               1.6\n",
              "3   Fries      4               3.2"
            ]
          },
          "metadata": {
            "tags": []
          },
          "execution_count": 40
        }
      ]
    },
    {
      "cell_type": "markdown",
      "metadata": {
        "id": "uHTatU1ohuYf",
        "colab_type": "text"
      },
      "source": [
        "## Export dataframe to a file ##"
      ]
    },
    {
      "cell_type": "markdown",
      "metadata": {
        "id": "C02sMNBehuYf",
        "colab_type": "text"
      },
      "source": [
        "To export a file, we will use **.to_csv()**."
      ]
    },
    {
      "cell_type": "markdown",
      "metadata": {
        "id": "Cx_tXStvhuYg",
        "colab_type": "text"
      },
      "source": [
        "Suppose we are going to export **df** to .csv file."
      ]
    },
    {
      "cell_type": "code",
      "metadata": {
        "id": "ikazgSNKhuYh",
        "colab_type": "code",
        "colab": {}
      },
      "source": [
        "df.to_csv(\"Menu.csv\", index = False)"
      ],
      "execution_count": null,
      "outputs": []
    },
    {
      "cell_type": "markdown",
      "metadata": {
        "id": "hrODwqsehuYi",
        "colab_type": "text"
      },
      "source": [
        "The code above export **df** to a file named \"Menu.csv\" (the extension of the file is .csv). *index = False* means we do not want to include the index."
      ]
    },
    {
      "cell_type": "markdown",
      "metadata": {
        "id": "ecA0vRmlhuYj",
        "colab_type": "text"
      },
      "source": [
        "Can we export this dataframe to .txt or .json file? Absolutely yes! Repeat the cell above but make sure you change the extension to *.txt* or *.json*."
      ]
    },
    {
      "cell_type": "code",
      "metadata": {
        "id": "ThqyfCJrhuYj",
        "colab_type": "code",
        "colab": {}
      },
      "source": [
        "df.to_csv(\"Menu.txt\", index = False)"
      ],
      "execution_count": null,
      "outputs": []
    },
    {
      "cell_type": "code",
      "metadata": {
        "id": "DGHY5EjxhuYl",
        "colab_type": "code",
        "colab": {}
      },
      "source": [
        "df.to_csv(\"Menu.json\", index = False)"
      ],
      "execution_count": null,
      "outputs": []
    },
    {
      "cell_type": "markdown",
      "metadata": {
        "id": "OfdYD4CxhuYn",
        "colab_type": "text"
      },
      "source": [
        "Here's another question. What if we want our file to be seperated by a tab space (\"\\t\")? Let's use *.txt* extension for this example."
      ]
    },
    {
      "cell_type": "code",
      "metadata": {
        "id": "gz-cPZ-1huYn",
        "colab_type": "code",
        "colab": {}
      },
      "source": [
        "df.to_csv(\"Menu.txt\", sep = \"\\t\", index = False)"
      ],
      "execution_count": null,
      "outputs": []
    },
    {
      "cell_type": "markdown",
      "metadata": {
        "id": "T2tuN6U1huYo",
        "colab_type": "text"
      },
      "source": [
        "We add a new parameter *sep = \"\\t\"* to state that we want the value to be (sep)erated by a tab space (\"\\t\")."
      ]
    },
    {
      "cell_type": "markdown",
      "metadata": {
        "id": "okxj1g_chuYp",
        "colab_type": "text"
      },
      "source": [
        "Please see your left window in the **Google Colab**. You should have seen \"Menu.csv\", \"Menu.txt\", \"Menu.json\" files.\\\n",
        "We are going to import \"Menu.txt\" back! Do you still remember how to import a file :)?"
      ]
    },
    {
      "cell_type": "markdown",
      "metadata": {
        "id": "-oes8lkQii31",
        "colab_type": "text"
      },
      "source": [
        "![alt text](data:image/png;base64,iVBORw0KGgoAAAANSUhEUgAAAD0AAADmCAYAAABmm40FAAAEp0lEQVR4Ae2dsWsUURCHUwpWgpUgBGwFQRACgqDESpAoChbRwiaCZRptEkhtKUmfFHYJ/g1CKpvkv0j61CsTfctyzlzu9t7b7P72K5bz5vbevW++ebO7p3suraysVGPblsYGbLxAj8U6pjEt3NUpb8qb8tY6a2NNs6ZZ06zpwV+K0shoZDQyGhmNbIh9gO49RGtt5ozpNlkb4nswPURrbeac3fT29nZ1cnJSHR4e1sfz9fX1amNjo/W2trZWj9UGcvI92aEvLi6qtG1ubl5O9vj4uI6l1+Z53Nvb6zf0+fl5DWiGLcvy0AZ6cHBQWZlPllVfnmcv776ATZsH0NOyo/RadtPWsa1x7e7u1mta/pDV7N6jPGSNBjqVd/OEQr68h9DwsjcyoHv6NXJ207Z+9/f3q62trfqQ1Tf72aGbhyxLgAHLX3A0LxlHc8iyq6vT09Pq6OioLm8OWT1obtnXdN+aljcfoL2sKMYwrWjVY8K0lxXFGKYVrXpMmPayohjDtKJVjwnTXlYUY5hWtOoxYdrLimIM04pWPSZMe1lRjGFa0arHhGkvK4oxTCta9Zgw7WVFMYZpRaseE6a9rCjGMK1o1WPCtJcVxRimFa16TJj2sqIYw7SiVY8J015WFGOYVrTqMWHay4piDNOlrKafAVldXa3v4Jn8LHvNfiqki99SKG7aINK9WnZT2iRset68Ya00eFFoux8rAdudeemOvATafLTX0t17Z2dnU/dtvq/Nn4tBG4RN3qCvAk4T7wq8CHQb4C7Bs0MvAtwVeFboHMBdgGeHztWMciYwJTI9ZoW2QW2yi4KXBLY5ZodeFLw0cDHotuBdABeFtsHt1+bSyclVJxxdAReHtg8Y3WmoQSdw+8mAqy44bJ/S592dmE7gfXos0r37BOjNBWgvK4oxTCta9Zgw7WVFMYZpRaseE6a9rCjGMK1o1WPCtJcVxRimFa16TJj2sqIYw7SiVY8J015WFGOYVrTqMWHay4piDNOKVj0mTHtZUYzNZPr35xvV5DbkZAAd2Zu0bM+jfYcQx3RkCdP/mlqUoCHEKe/IEuVNef/9F4FRhfQ1zpqOzLCmWdOs6cGcj9PIaGSN/6uO7k33pntfdu8XTx5WO6+Ww+3Ly3vX3uWzdu83zx789wWi1w++v7tzreBZob+9vTsTtCXiOsGzQv/4cHtmaK8CopiN+/Txo2zVMQhoS8bXjL2gCPTPj7eq98/vZ9lsLIM229HJ07zxItA5J5iWTM4xgY7KxGsw3r4lrJQYE9OePYthesoFR4lSLDEm5U15t/gSoUQplhiT8qa8W5R3urT89enm5bmyleaim41lh0wbO5Iybzxrec/6JYJ33J8WM3Abe164aP+s0PYhl18XvV6udjJuNmYE0CaeHbrNJLp+D9BRxr31Fu07hDimI0uYnnKVFSWtb3HKOzJCeVPe/K1l1lPFaKnliNPIoizSyGhkNDIaWdQf+hCne0cW6N5j6d5RBQw1PtOaHipcNG+go8yoxTGtZjTiwXSUGbU4ptWMRjyYjjKjFse0mtGIB9NRZtTimFYzGvFgOsqMWhzTakYjHkxHmVGLj9L0HxN8pSTpFXP8AAAAAElFTkSuQmCC)"
      ]
    },
    {
      "cell_type": "markdown",
      "metadata": {
        "id": "3GVqPZRdhuYp",
        "colab_type": "text"
      },
      "source": [
        "To import file we will use **pd.read_csv()**. Hey! Our file is now *.txt*, should we still be using **pd.read_csv()**?\\\n",
        "Let's try it and see what will happen."
      ]
    },
    {
      "cell_type": "code",
      "metadata": {
        "id": "db2QiivGhuYq",
        "colab_type": "code",
        "colab": {}
      },
      "source": [
        "menu = pd.read_csv(\"Menu.txt\")"
      ],
      "execution_count": null,
      "outputs": []
    },
    {
      "cell_type": "code",
      "metadata": {
        "id": "UJcSnimthuYs",
        "colab_type": "code",
        "colab": {
          "base_uri": "https://localhost:8080/",
          "height": 171
        },
        "outputId": "59b18f83-7fcf-49ab-814a-86142163e629"
      },
      "source": [
        "menu"
      ],
      "execution_count": null,
      "outputs": [
        {
          "output_type": "execute_result",
          "data": {
            "text/html": [
              "<div>\n",
              "<style scoped>\n",
              "    .dataframe tbody tr th:only-of-type {\n",
              "        vertical-align: middle;\n",
              "    }\n",
              "\n",
              "    .dataframe tbody tr th {\n",
              "        vertical-align: top;\n",
              "    }\n",
              "\n",
              "    .dataframe thead th {\n",
              "        text-align: right;\n",
              "    }\n",
              "</style>\n",
              "<table border=\"1\" class=\"dataframe\">\n",
              "  <thead>\n",
              "    <tr style=\"text-align: right;\">\n",
              "      <th></th>\n",
              "      <th>Menu\\tPrice\\tDiscounted_Price</th>\n",
              "    </tr>\n",
              "  </thead>\n",
              "  <tbody>\n",
              "    <tr>\n",
              "      <th>0</th>\n",
              "      <td>Hotdog\\t5\\t4.0</td>\n",
              "    </tr>\n",
              "    <tr>\n",
              "      <th>1</th>\n",
              "      <td>Pizza\\t3\\t2.4</td>\n",
              "    </tr>\n",
              "    <tr>\n",
              "      <th>2</th>\n",
              "      <td>Cola\\t2\\t1.6</td>\n",
              "    </tr>\n",
              "    <tr>\n",
              "      <th>3</th>\n",
              "      <td>Fries\\t4\\t3.2</td>\n",
              "    </tr>\n",
              "  </tbody>\n",
              "</table>\n",
              "</div>"
            ],
            "text/plain": [
              "  Menu\\tPrice\\tDiscounted_Price\n",
              "0                Hotdog\\t5\\t4.0\n",
              "1                 Pizza\\t3\\t2.4\n",
              "2                  Cola\\t2\\t1.6\n",
              "3                 Fries\\t4\\t3.2"
            ]
          },
          "metadata": {
            "tags": []
          },
          "execution_count": 46
        }
      ]
    },
    {
      "cell_type": "markdown",
      "metadata": {
        "id": "voTavHg7huYu",
        "colab_type": "text"
      },
      "source": [
        "Magic! **pd.read_csv()** can read *.txt* file but did you see something strange?\\\n",
        "There are \"\\t\". This occured because we saved the file with tab space (\"\\t\") as its seperator.\\\n",
        "We have to get back to **pd.read_csv()** and add a **sep** parameter to get rid of these \"\\t\"."
      ]
    },
    {
      "cell_type": "code",
      "metadata": {
        "id": "c0gQeLrZhuYu",
        "colab_type": "code",
        "colab": {}
      },
      "source": [
        "menu = pd.read_csv(\"Menu.txt\", sep = \"\\t\")"
      ],
      "execution_count": null,
      "outputs": []
    },
    {
      "cell_type": "code",
      "metadata": {
        "id": "fN_mKUcShuYv",
        "colab_type": "code",
        "colab": {
          "base_uri": "https://localhost:8080/",
          "height": 171
        },
        "outputId": "08142a36-e519-4433-b82f-81b15dda598c"
      },
      "source": [
        "menu"
      ],
      "execution_count": null,
      "outputs": [
        {
          "output_type": "execute_result",
          "data": {
            "text/html": [
              "<div>\n",
              "<style scoped>\n",
              "    .dataframe tbody tr th:only-of-type {\n",
              "        vertical-align: middle;\n",
              "    }\n",
              "\n",
              "    .dataframe tbody tr th {\n",
              "        vertical-align: top;\n",
              "    }\n",
              "\n",
              "    .dataframe thead th {\n",
              "        text-align: right;\n",
              "    }\n",
              "</style>\n",
              "<table border=\"1\" class=\"dataframe\">\n",
              "  <thead>\n",
              "    <tr style=\"text-align: right;\">\n",
              "      <th></th>\n",
              "      <th>Menu</th>\n",
              "      <th>Price</th>\n",
              "      <th>Discounted_Price</th>\n",
              "    </tr>\n",
              "  </thead>\n",
              "  <tbody>\n",
              "    <tr>\n",
              "      <th>0</th>\n",
              "      <td>Hotdog</td>\n",
              "      <td>5</td>\n",
              "      <td>4.0</td>\n",
              "    </tr>\n",
              "    <tr>\n",
              "      <th>1</th>\n",
              "      <td>Pizza</td>\n",
              "      <td>3</td>\n",
              "      <td>2.4</td>\n",
              "    </tr>\n",
              "    <tr>\n",
              "      <th>2</th>\n",
              "      <td>Cola</td>\n",
              "      <td>2</td>\n",
              "      <td>1.6</td>\n",
              "    </tr>\n",
              "    <tr>\n",
              "      <th>3</th>\n",
              "      <td>Fries</td>\n",
              "      <td>4</td>\n",
              "      <td>3.2</td>\n",
              "    </tr>\n",
              "  </tbody>\n",
              "</table>\n",
              "</div>"
            ],
            "text/plain": [
              "     Menu  Price  Discounted_Price\n",
              "0  Hotdog      5               4.0\n",
              "1   Pizza      3               2.4\n",
              "2    Cola      2               1.6\n",
              "3   Fries      4               3.2"
            ]
          },
          "metadata": {
            "tags": []
          },
          "execution_count": 48
        }
      ]
    },
    {
      "cell_type": "markdown",
      "metadata": {
        "id": "dlKnYLo9huYw",
        "colab_type": "text"
      },
      "source": [
        "\"\\t\" byebye! :D"
      ]
    },
    {
      "cell_type": "markdown",
      "metadata": {
        "id": "Pn6UimF1huYx",
        "colab_type": "text"
      },
      "source": [
        "## Hooray! ##\n",
        "We have come to an end of our *Pandas Introduction Notebook*. \n",
        "\n",
        "A quick recap of what we have learned:\n",
        "* Create your own dataframe\n",
        "* Import a file into a dataframe\n",
        "* Insert a column to the dataframe\n",
        "* Insert a row to the dataframe\n",
        "* Drop a column or row\n",
        "* Export your dataframe into .csv, .txt, .json file\n",
        "\n",
        "This notebook should have covered the most recently used **pandas** functions in Data Science, Machine Learning and other related fields. I really hope you enjoy this notebook and interested to dive deeper in these field of study. Please feel free to contact me if you find anything difficult. Thank you and happy learning :D."
      ]
    }
  ]
}